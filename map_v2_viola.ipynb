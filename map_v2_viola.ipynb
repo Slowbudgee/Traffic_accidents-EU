{
 "cells": [
  {
   "cell_type": "code",
   "execution_count": 1,
   "id": "b2dc003a",
   "metadata": {
    "id": "b2dc003a"
   },
   "outputs": [],
   "source": [
    "# set backend\n",
    "%matplotlib widget"
   ]
  },
  {
   "cell_type": "code",
   "execution_count": 2,
   "id": "8ba71306",
   "metadata": {
    "id": "8ba71306"
   },
   "outputs": [],
   "source": [
    "#imports\n",
    "import sqlite3 as sql\n",
    "import geopandas as gpd\n",
    "import pandas as pd\n",
    "import numpy as np\n",
    "import matplotlib.pyplot as plt\n",
    "from shapely.geometry import Polygon, MultiPolygon\n",
    "\n",
    "import ipyleaflet as leaf\n",
    "import ipywidgets as ipyw\n",
    "import json\n",
    "from IPython.display import display_html\n",
    "from itertools import chain,cycle"
   ]
  },
  {
   "cell_type": "code",
   "execution_count": 3,
   "id": "7f99c5c4",
   "metadata": {
    "id": "7f99c5c4"
   },
   "outputs": [
    {
     "name": "stderr",
     "output_type": "stream",
     "text": [
      "/var/folders/mv/g7t2t7zs6zjdv1hksbybwd500000gn/T/ipykernel_77911/296129739.py:1: FutureWarning: The geopandas.dataset module is deprecated and will be removed in GeoPandas 1.0. You can get the original 'naturalearth_lowres' data from https://www.naturalearthdata.com/downloads/110m-cultural-vectors/.\n",
      "  world = gpd.read_file(gpd.datasets.get_path('naturalearth_lowres'))\n"
     ]
    }
   ],
   "source": [
    "world = gpd.read_file(gpd.datasets.get_path('naturalearth_lowres'))\n",
    "europe = world[world.continent == 'Europe']"
   ]
  },
  {
   "cell_type": "code",
   "execution_count": 4,
   "id": "adf1832c",
   "metadata": {
    "id": "adf1832c",
    "tags": [
     "voila-hide-code"
    ]
   },
   "outputs": [
    {
     "name": "stderr",
     "output_type": "stream",
     "text": [
      "/var/folders/mv/g7t2t7zs6zjdv1hksbybwd500000gn/T/ipykernel_77911/551007963.py:3: FutureWarning: The geopandas.dataset module is deprecated and will be removed in GeoPandas 1.0. You can get the original 'naturalearth_lowres' data from https://www.naturalearthdata.com/downloads/110m-cultural-vectors/.\n",
      "  world = gpd.read_file(gpd.datasets.get_path('naturalearth_lowres'))\n"
     ]
    }
   ],
   "source": [
    "# Map without russia / cleaning\n",
    "\n",
    "world = gpd.read_file(gpd.datasets.get_path('naturalearth_lowres'))\n",
    "europe1 = world[world.continent == 'Europe']\n",
    "\n",
    "# Create a new GeoDataFrame without Russia\n",
    "europe = europe1[europe['name'] != 'Russia']\n",
    "\n",
    "# Plot the map of Europe without Russia\n",
    "#europe.plot()\n",
    "\n",
    "#plt.title('Europe without Russia')\n",
    "#plt.show()\n",
    "\n",
    "# create new polygon from my undertasnig Im cropping the image above\n",
    "#makes box\n",
    "\n",
    "polygon = Polygon([(-25,35), (40,35), (40,75),(-25,75)]) # box shape co-ordinates\n",
    "\n",
    "# Makes new geo dataframe ,with 1 row and a geometry column,crs = co-ordinate refrence systerm set to the world\n",
    "poly_gdf = gpd.GeoDataFrame([1], geometry=[polygon], crs=world.crs)\n",
    "\n",
    "#fig,ax=plt.subplots()\n",
    "#ax=europe.plot(ax=ax) # plots countries on europe from the custom polygon\n",
    "#poly_gdf.plot(edgecolor='red',ax=ax, alpha=0.1)\n",
    "\n",
    "#plt.show()\n",
    "\n"
   ]
  },
  {
   "cell_type": "code",
   "execution_count": 5,
   "id": "4c22bbd5",
   "metadata": {
    "id": "4c22bbd5",
    "tags": [
     "voila-hide-code"
    ]
   },
   "outputs": [],
   "source": [
    "#Clip polygon from the map of Europe\n",
    "europe=gpd.clip(europe, polygon)\n",
    "#europe.plot()"
   ]
  },
  {
   "cell_type": "code",
   "execution_count": 6,
   "id": "fcf5ad3a",
   "metadata": {
    "id": "fcf5ad3a",
    "tags": [
     "voila-hide-code"
    ]
   },
   "outputs": [],
   "source": [
    "# Read dataframe\n",
    "conn1 = sql.connect((\"data_combined_all.db\"))\n",
    "cur1 = conn1.cursor()\n",
    "\n",
    "query = 'SELECT * FROM sheet_1'\n",
    "every = pd.read_sql(query,conn1)\n",
    "\n",
    "# print(country)\n",
    "country =every.TIME\n",
    "# print(country)\n",
    "# x=len(country)\n",
    "# print(x)\n",
    "\n",
    "conn1.commit()\n",
    "conn1.close()"
   ]
  },
  {
   "cell_type": "code",
   "execution_count": 7,
   "id": "bf209b36",
   "metadata": {
    "id": "bf209b36",
    "tags": [
     "voila-hide-code"
    ]
   },
   "outputs": [],
   "source": [
    "# Let's skip the rows we don't want\n",
    "reduced_db = every.iloc[3:]\n",
    "#reduced_db"
   ]
  },
  {
   "cell_type": "code",
   "execution_count": 8,
   "id": "90f29e2e",
   "metadata": {
    "id": "90f29e2e",
    "tags": [
     "voila-hide-code"
    ]
   },
   "outputs": [],
   "source": [
    "# reduce geojson data to countries we have data for\n",
    "euro2 = europe[europe['name'].isin(reduced_db['TIME'])]\n",
    "#euro2"
   ]
  },
  {
   "cell_type": "code",
   "execution_count": 9,
   "id": "27811a29",
   "metadata": {
    "id": "27811a29",
    "tags": [
     "voila-hide-code"
    ]
   },
   "outputs": [],
   "source": [
    "def when_clicked_print_country_name(**args):\n",
    "    print(args['properties']['name'])"
   ]
  },
  {
   "cell_type": "code",
   "execution_count": 10,
   "id": "b2d99ef7",
   "metadata": {
    "id": "b2d99ef7",
    "tags": [
     "voila-hide-code"
    ]
   },
   "outputs": [],
   "source": [
    "# map for europe\n",
    "euro = leaf.Map(center = (50.6252978589571, 0.34580993652344),\n",
    "             zoom = 3,\n",
    "             layout=ipyw.Layout(width='50%', height='350px',lenght='350px'))\n",
    "\n",
    "geo_data = leaf.GeoData(geo_dataframe=euro2,\n",
    "                   style={'color': 'white', 'fillColor': 'blue', 'opacity':0.6, 'weight':4.9, 'dashArray':'2', 'fillOpacity':0.6},\n",
    "                   hover_style={'fillColor': 'red' , 'fillOpacity': 0.2},\n",
    "                   name = 'Countries')\n",
    "\n",
    "geo_data.on_click(when_clicked_print_country_name)\n",
    "\n",
    "euro.add_layer(geo_data)\n",
    "\n",
    "#euro"
   ]
  },
  {
   "cell_type": "code",
   "execution_count": 11,
   "id": "69b0664a",
   "metadata": {
    "id": "69b0664a",
    "tags": [
     "voila-hide-code"
    ]
   },
   "outputs": [],
   "source": [
    "#  Graph 1 this can change for whatever graph\n",
    "# Clean Generate graph of fatalites for a country\n",
    "\n",
    "def sanatize_input(a):\n",
    "    chars_to_remove = [';', '-', '.', '\"'] #charachter to remove\n",
    "    a = a.translate({ord(x): '' for x in chars_to_remove})\n",
    "    a = a.strip()  #strip leading zeros\n",
    "#     print(a)\n",
    "    return a\n",
    "\n",
    "def generate_total_fatal(country):\n",
    "\n",
    "    conn = sql.connect(\"data_combined_all.db\")\n",
    "    cur = conn.cursor()\n",
    "    #Sanatize user input before the graph is generated\n",
    "    santize_country=sanatize_input(country)\n",
    "\n",
    "    # Using parameterized query to avoid SQL injection for years and number\n",
    "    query = \"SELECT * FROM Sheet_1 WHERE Time = ?\"\n",
    "    data = pd.read_sql_query(query, conn, params=(country,))\n",
    "\n",
    "    query2 = \"SELECT * FROM GDP WHERE CountryName = ?\"\n",
    "    data2 = pd.read_sql_query(query2, conn, params=(country,))\n",
    "\n",
    "    # Extracting and converting data for plotting\n",
    "    years = data.columns[1:].astype(int)\n",
    "    numbers = np.array(data.T)[1:].astype(int)\n",
    "\n",
    "    gdp = np.array(data2.T[46:])\n",
    "\n",
    "    # Close the database connection\n",
    "    conn.close()\n",
    "\n",
    "    return years, numbers, gdp\n",
    "\n"
   ]
  },
  {
   "cell_type": "code",
   "execution_count": 12,
   "id": "ca02dc1f",
   "metadata": {
    "id": "ca02dc1f",
    "tags": [
     "voila-hide-code"
    ]
   },
   "outputs": [],
   "source": [
    "# doesn't automatically display, and where everything we want to change has a name (not neede for final below)\n",
    "\n",
    "with plt.ioff():\n",
    "\n",
    "    fig_data = plt.figure(figsize=(5,5))\n",
    "    ax_data = fig_data.add_subplot(1, 1, 1)\n",
    "    ax2 = ax_data.twinx()\n",
    "\n",
    "    # the string variable 'constit' is used to select the constituency\n",
    "    country = 'France'\n",
    "    years, numbers,gdp = generate_total_fatal(country)\n",
    "\n",
    "\n",
    "    fatalities_line, = ax_data.plot(years, numbers, label='Fatalities', linewidth = 2, color='blue')\n",
    "    fatalities_line2, = ax2.plot(years, gdp, label='GDP', linewidth = 2, color='orange')\n",
    "\n",
    "    ax_data.set_title(f\"{country}\",fontsize=15)\n",
    "    ax_data.set_xlabel('Year',fontsize=12)\n",
    "    ax_data.set_ylabel('Fatalities',fontsize=12)\n",
    "    ax2.set_ylabel('GDP',fontsize=12)\n",
    "\n",
    "    lines = ax_data.get_lines() + ax2.get_lines()\n",
    "    ax_data.legend(lines, [l.get_label() for l in lines], loc ='upper center')\n",
    "\n",
    "    ax_data.set_ylim(0, 1.1*max(numbers))\n",
    "    ax2.set_ylim(1, 2 * gdp.max())\n",
    "\n",
    "\n",
    "    # figure/panel formatting\n",
    "    fig_data.canvas.toolbar_visible=False\n",
    "    fig_data.canvas.header_visible=False\n",
    "    fig_data.canvas.footer_visible=False\n",
    "    fig_data.canvas.resizable=False\n",
    "\n",
    "    plt.tight_layout()\n"
   ]
  },
  {
   "cell_type": "code",
   "execution_count": 13,
   "id": "73de90f1",
   "metadata": {
    "id": "73de90f1",
    "tags": [
     "voila-hide-code"
    ]
   },
   "outputs": [],
   "source": [
    "#Makes graph\n",
    "def update_plot(country):\n",
    "    #get new data\n",
    "    years, numbers, gdp = generate_total_fatal(country)\n",
    "    plt.figure(figsize=(7,7))\n",
    "    #update graph elements\n",
    "    fatalities_line.set_xdata(years)\n",
    "    fatalities_line.set_ydata(numbers)\n",
    "    fatalities_line2.set_ydata(gdp)\n",
    "\n",
    "    # Sets suitable y axis limit and title\n",
    "    ax_data.set_ylim(0, 1.1*max(numbers))\n",
    "    ax2.set_ylim(0,1.1 * gdp.max())\n",
    "\n",
    "    ax_data.set_ylim(min(numbers), 1.1*max(numbers))\n",
    "    ax2.set_ylim(gdp.min(),1.1*gdp.max())\n",
    "\n",
    "    ax_data.set_title(f\"{country}\",fontsize=17)"
   ]
  },
  {
   "cell_type": "code",
   "execution_count": 14,
   "id": "a104d333",
   "metadata": {
    "id": "a104d333",
    "tags": [
     "voila-hide-code"
    ]
   },
   "outputs": [],
   "source": [
    "def when_clicked_update_figure(**args):\n",
    "    update_plot(args['properties']['name'])"
   ]
  },
  {
   "cell_type": "code",
   "execution_count": 15,
   "id": "ba347459",
   "metadata": {
    "colab": {
     "referenced_widgets": [
      "a29cf4eee79e47b0823b23232f114fe7",
      "a5332143545d4378b6e7934bf325387a",
      "c63cd098be464c2dbbd87efb43a4d621",
      "b6231b5880834620be274ee78ede1826"
     ]
    },
    "id": "ba347459",
    "outputId": "47dde6de-1809-4b79-e391-311f0660fe1a",
    "scrolled": false
   },
   "outputs": [
    {
     "data": {
      "application/vnd.jupyter.widget-view+json": {
       "model_id": "2907206290e74825bc6bb3784f4b3cf3",
       "version_major": 2,
       "version_minor": 0
      },
      "text/plain": [
       "HBox(children=(Map(center=[63.6252978589571, 5.24580993652344], controls=(ZoomControl(options=['position', 'zo…"
      ]
     },
     "execution_count": 15,
     "metadata": {},
     "output_type": "execute_result"
    },
    {
     "data": {
      "application/vnd.jupyter.widget-view+json": {
       "model_id": "a422b51379e945f090ef8bb89101ca19",
       "version_major": 2,
       "version_minor": 0
      },
      "image/png": "[encoded data removed]",
      "text/html": [
       "\n",
       "            <div style=\"display: inline-block;\">\n",
       "                <div class=\"jupyter-widgets widget-label\" style=\"text-align: center;\">\n",
       "                    Figure\n",
       "                </div>\n",
       "                <img src='data:image/png;base64,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' width=700.0/>\n",
       "            </div>\n",
       "        "
      ],
      "text/plain": [
       "Canvas(toolbar=Toolbar(toolitems=[('Home', 'Reset original view', 'home', 'home'), ('Back', 'Back to previous …"
      ]
     },
     "metadata": {},
     "output_type": "display_data"
    }
   ],
   "source": [
    "# To run and final ineteraction\n",
    "euro = leaf.Map(center = (63.6252978589571, 5.24580993652344),\n",
    "             zoom = 3,\n",
    "             layout=ipyw.Layout(width='30%', height='550px',lenght='350px'))\n",
    "\n",
    "geo_data = leaf.GeoData(geo_dataframe=euro2,\n",
    "                   style={'color': 'white', 'fillColor': 'blue', 'opacity':0.6, 'weight':4.9, 'dashArray':'2', 'fillOpacity':0.6},\n",
    "                   hover_style={'fillColor': 'red' , 'fillOpacity': 0.2},\n",
    "                   name = 'Countries')\n",
    "\n",
    "geo_data.on_click(when_clicked_update_figure)\n",
    "\n",
    "euro.add_layer(geo_data)\n",
    "\n",
    "\n",
    "ipyw.HBox([euro ,fig_data.canvas], layout=ipyw.Layout(flex='2 2', width='100%'))\n"
   ]
  },
  {
   "cell_type": "code",
   "execution_count": null,
   "id": "341689fd",
   "metadata": {},
   "outputs": [],
   "source": []
  }
 ],
 "metadata": {
  "celltoolbar": "Tags",
  "colab": {
   "provenance": []
  },
  "kernelspec": {
   "display_name": "Python 3 (ipykernel)",
   "language": "python",
   "name": "python3"
  },
  "language_info": {
   "codemirror_mode": {
    "name": "ipython",
    "version": 3
   },
   "file_extension": ".py",
   "mimetype": "text/x-python",
   "name": "python",
   "nbconvert_exporter": "python",
   "pygments_lexer": "ipython3",
   "version": "3.11.5"
  }
 },
 "nbformat": 4,
 "nbformat_minor": 5
}
